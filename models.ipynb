{
 "cells": [
  {
   "cell_type": "code",
   "execution_count": 1,
   "metadata": {
    "ExecuteTime": {
     "end_time": "2020-03-26T20:53:12.388865Z",
     "start_time": "2020-03-26T20:52:56.831883Z"
    }
   },
   "outputs": [
    {
     "name": "stderr",
     "output_type": "stream",
     "text": [
      "[nltk_data] Downloading package wordnet to /Users/victor/nltk_data...\n",
      "[nltk_data]   Package wordnet is already up-to-date!\n",
      "[nltk_data] Downloading package stopwords to\n",
      "[nltk_data]     /Users/victor/nltk_data...\n",
      "[nltk_data]   Package stopwords is already up-to-date!\n"
     ]
    }
   ],
   "source": [
    "import os\n",
    "\n",
    "import pandas as pd\n",
    "\n",
    "from preprocessing.preprocessing import preprocess\n",
    "\n",
    "\n",
    "DATASET_FOLDER = \"data\"\n",
    "CACHE_FOLDER = \"cache\"\n",
    "\n",
    "os.makedirs(DATASET_FOLDER, exist_ok=True)\n",
    "os.makedirs(CACHE_FOLDER, exist_ok=True)"
   ]
  },
  {
   "cell_type": "markdown",
   "metadata": {},
   "source": [
    "# STEP 1: Cleaning the dataset"
   ]
  },
  {
   "cell_type": "code",
   "execution_count": 2,
   "metadata": {
    "ExecuteTime": {
     "end_time": "2020-03-26T20:53:12.636875Z",
     "start_time": "2020-03-26T20:53:12.394393Z"
    }
   },
   "outputs": [
    {
     "name": "stdout",
     "output_type": "stream",
     "text": [
      "STEP 1: Cleaning the dataset...\n",
      "\t-> Loading cached dataset\n",
      "\t-> Done\n"
     ]
    }
   ],
   "source": [
    "print(\"STEP 1: Cleaning the dataset...\")\n",
    "\n",
    "# take the preprocessed dateset in the cache folder\n",
    "try:\n",
    "    print(\"\\t-> Loading cached dataset\")\n",
    "    X_train = pd.read_csv(\n",
    "        f\"{CACHE_FOLDER}/X_train_preprocessed.csv\", index_col=\"Unnamed: 0\")\n",
    "    Y_train = pd.read_csv(\n",
    "        f\"{CACHE_FOLDER}/Y_train_preprocessed.csv\", index_col=\"Unnamed: 0\")\n",
    "\n",
    "# If the dataset is not found\n",
    "except:\n",
    "    print(\"\\t-> File not found, generating preprocessed datasets\")\n",
    "    # Load normal datasets\n",
    "    X_train = pd.read_csv(\n",
    "        f\"{DATASET_FOLDER}/X_train_update.csv\", index_col=\"Unnamed: 0\")\n",
    "    Y_train = pd.read_csv(\n",
    "        f\"{DATASET_FOLDER}/Y_train_CVw08PX.csv\", index_col=\"Unnamed: 0\")\n",
    "\n",
    "    # preprocess datasets\n",
    "    X_train, Y_train = preprocess(X_train, Y_train)\n",
    "\n",
    "    # save preprocessed datasets\n",
    "    X_train.to_csv(f\"{CACHE_FOLDER}/X_train_preprocessed.csv\")\n",
    "    Y_train.to_csv(f\"{CACHE_FOLDER}/Y_train_preprocessed.csv\")\n",
    "\n",
    "print(\"\\t-> Done\")"
   ]
  },
  {
   "cell_type": "markdown",
   "metadata": {},
   "source": [
    "# STEP 2: Sentences embedding"
   ]
  },
  {
   "cell_type": "code",
   "execution_count": 3,
   "metadata": {
    "ExecuteTime": {
     "end_time": "2020-03-26T20:53:14.657594Z",
     "start_time": "2020-03-26T20:53:12.643101Z"
    }
   },
   "outputs": [],
   "source": [
    "from sklearn import model_selection, preprocessing, linear_model, naive_bayes, metrics\n",
    "from sklearn import ensemble, tree\n",
    "from sklearn.feature_extraction.text import TfidfVectorizer\n",
    "from sklearn.feature_extraction.text import CountVectorizer\n",
    "\n",
    "bow = CountVectorizer()\n",
    "tfidf = TfidfVectorizer()\n",
    "\n",
    "X_bow = bow.fit_transform(X_train['designation'])\n",
    "X_tfidf = tfidf.fit_transform(X_train['designation'])\n",
    "\n",
    "\n",
    "train_x, valid_x, train_y, valid_y = model_selection.train_test_split(\n",
    "    X_tfidf, Y_train['prdtypecode'])\n",
    "\n",
    "encoder = preprocessing.LabelEncoder()\n",
    "train_y = encoder.fit_transform(train_y)\n",
    "valid_y = encoder.fit_transform(valid_y)"
   ]
  },
  {
   "cell_type": "markdown",
   "metadata": {
    "ExecuteTime": {
     "end_time": "2020-03-18T17:54:47.513939Z",
     "start_time": "2020-03-18T17:54:47.505686Z"
    }
   },
   "source": [
    "# STEP 3: Finding best hyper-parameters"
   ]
  },
  {
   "cell_type": "markdown",
   "metadata": {},
   "source": [
    "### Finetuning MultinomialNB"
   ]
  },
  {
   "cell_type": "code",
   "execution_count": 4,
   "metadata": {
    "ExecuteTime": {
     "end_time": "2020-03-26T20:53:14.684197Z",
     "start_time": "2020-03-26T20:53:14.676873Z"
    }
   },
   "outputs": [],
   "source": [
    "from sklearn.model_selection import train_test_split, GridSearchCV, StratifiedKFold\n",
    "from sklearn.metrics import roc_curve, precision_recall_curve, auc, make_scorer, recall_score, accuracy_score, precision_score, confusion_matrix\n",
    "\n",
    "if False:\n",
    "    clf=naive_bayes.MultinomialNB()\n",
    "\n",
    "\n",
    "    param_grid = {\"alpha\" : [0, 0.05, .1, .2, 1.0]}\n",
    "\n",
    "    skf = StratifiedKFold(n_splits=5)\n",
    "    grid_search = GridSearchCV(clf, param_grid, scoring=\"f1_weighted\",\n",
    "                               cv=skf, return_train_score=True)\n",
    "\n",
    "    grid_search.fit(train_x, train_y)\n",
    "\n",
    "    # make the predictions\n",
    "    y_pred = grid_search.predict(valid_x)\n",
    "    weighted_f1 = metrics.f1_score(valid_y, y_pred, average='weighted')\n",
    "    print(\" -> Weighted F1 score:\", weighted_f1)\n",
    "\n",
    "    print('Best params:')\n",
    "    print(grid_search.best_params_)"
   ]
  },
  {
   "cell_type": "markdown",
   "metadata": {},
   "source": [
    "### Finetuning LogisticRegression"
   ]
  },
  {
   "cell_type": "code",
   "execution_count": 5,
   "metadata": {
    "ExecuteTime": {
     "end_time": "2020-03-26T20:53:14.696765Z",
     "start_time": "2020-03-26T20:53:14.688089Z"
    }
   },
   "outputs": [],
   "source": [
    "if False:\n",
    "    clf = linear_model.LogisticRegression()\n",
    "\n",
    "    param_grid = {\n",
    "        \"penalty\": [\"l2\"],\n",
    "        \"C\": [1, 1.5, 2, 4, 8]\n",
    "    }\n",
    "\n",
    "    skf = StratifiedKFold(n_splits=5)\n",
    "    grid_search = GridSearchCV(clf, param_grid, scoring=\"f1_weighted\",\n",
    "                               cv=skf, return_train_score=True)\n",
    "\n",
    "    grid_search.fit(train_x, train_y)\n",
    "\n",
    "    # make the predictions\n",
    "    y_pred = grid_search.predict(valid_x)\n",
    "    weighted_f1 = metrics.f1_score(valid_y, y_pred, average='weighted')\n",
    "    print(\" -> Weighted F1 score:\", weighted_f1)\n",
    "\n",
    "    print('Best params:')\n",
    "    print(grid_search.best_params_)"
   ]
  },
  {
   "cell_type": "markdown",
   "metadata": {},
   "source": [
    "### Finetuning AdaBoost Classifier"
   ]
  },
  {
   "cell_type": "code",
   "execution_count": 6,
   "metadata": {
    "ExecuteTime": {
     "end_time": "2020-03-26T20:53:14.707083Z",
     "start_time": "2020-03-26T20:53:14.700263Z"
    }
   },
   "outputs": [],
   "source": [
    "if False:\n",
    "    \n",
    "    clf=ensemble.AdaBoostClassifier()\n",
    "\n",
    "    param_grid = {\n",
    "        \"base_estimator\" : [tree.DecisionTreeClassifier(max_depth=2)],\n",
    "        \"n_estimators\": [1200, 2000, 3000, 5000],\n",
    "        \"learning_rate\": [.1]\n",
    "    }\n",
    "\n",
    "\n",
    "    skf = StratifiedKFold(n_splits=5)\n",
    "    grid_search = GridSearchCV(clf, param_grid, scoring=\"f1_weighted\",\n",
    "                               cv=skf, return_train_score=True)\n",
    "\n",
    "    grid_search.fit(train_x, train_y)\n",
    "\n",
    "    # make the predictions\n",
    "    y_pred = grid_search.predict(valid_x)\n",
    "    weighted_f1 = metrics.f1_score(valid_y, y_pred, average='weighted')\n",
    "    print(\" -> Weighted F1 score:\", weighted_f1)\n",
    "\n",
    "    print('Best params:')\n",
    "    print(grid_search.best_params_)\n"
   ]
  },
  {
   "cell_type": "markdown",
   "metadata": {
    "ExecuteTime": {
     "end_time": "2020-03-26T01:23:50.986964Z",
     "start_time": "2020-03-26T01:23:50.973149Z"
    }
   },
   "source": [
    "### Finetuning RandomForest Classifier"
   ]
  },
  {
   "cell_type": "code",
   "execution_count": 7,
   "metadata": {
    "ExecuteTime": {
     "end_time": "2020-03-26T20:53:14.715417Z",
     "start_time": "2020-03-26T20:53:14.709132Z"
    }
   },
   "outputs": [],
   "source": [
    "if False:\n",
    "\n",
    "    clf = ensemble.RandomForestClassifier()\n",
    "\n",
    "    param_grid = {\n",
    "        'min_samples_split': [2],\n",
    "        'n_estimators': [500, 1000, 2000]\n",
    "    }\n",
    "\n",
    "    skf = StratifiedKFold(n_splits=5)\n",
    "    grid_search = GridSearchCV(clf, param_grid, scoring=\"f1_weighted\",\n",
    "                               cv=skf, return_train_score=True)\n",
    "\n",
    "    grid_search.fit(train_x, train_y)\n",
    "\n",
    "    # make the predictions\n",
    "    y_pred = grid_search.predict(valid_x)\n",
    "    weighted_f1 = metrics.f1_score(valid_y, y_pred, average='weighted')\n",
    "    print(\" -> Weighted F1 score:\", weighted_f1)\n",
    "\n",
    "    print('Best params:')\n",
    "    print(grid_search.best_params_)"
   ]
  },
  {
   "cell_type": "markdown",
   "metadata": {},
   "source": [
    "### Finetuning GradientBoostingClassifier"
   ]
  },
  {
   "cell_type": "code",
   "execution_count": 8,
   "metadata": {
    "ExecuteTime": {
     "end_time": "2020-03-26T20:53:14.725163Z",
     "start_time": "2020-03-26T20:53:14.719172Z"
    }
   },
   "outputs": [],
   "source": [
    "if False:\n",
    "    \n",
    "    clf=ensemble.GradientBoostingClassifier()\n",
    "\n",
    "    param_grid = {\n",
    "        \"n_estimators\": [50, 100, 200, 400],\n",
    "        \"max_depth\": [3, 4],\n",
    "        \"learning_rate\": [.1, .05]\n",
    "    }\n",
    "\n",
    "\n",
    "    skf = StratifiedKFold(n_splits=5)\n",
    "    grid_search = GridSearchCV(clf, param_grid, scoring=\"f1_weighted\",\n",
    "                               cv=skf, return_train_score=True)\n",
    "\n",
    "    grid_search.fit(train_x, train_y)\n",
    "\n",
    "    # make the predictions\n",
    "    y_pred = grid_search.predict(valid_x)\n",
    "    weighted_f1 = metrics.f1_score(valid_y, y_pred, average='weighted')\n",
    "    print(\" -> Weighted F1 score:\", weighted_f1)\n",
    "\n",
    "    print('Best params:')\n",
    "    print(grid_search.best_params_)"
   ]
  },
  {
   "cell_type": "markdown",
   "metadata": {},
   "source": [
    "# STEP 4: Printing scores"
   ]
  },
  {
   "cell_type": "code",
   "execution_count": 9,
   "metadata": {
    "ExecuteTime": {
     "end_time": "2020-03-26T21:13:08.881763Z",
     "start_time": "2020-03-26T20:53:14.727608Z"
    }
   },
   "outputs": [
    {
     "name": "stdout",
     "output_type": "stream",
     "text": [
      "Testing: Random Forest\n",
      " -> Weighted F1 score: 0.7947380460721855\n",
      "Testing: Logistic Regression\n"
     ]
    },
    {
     "name": "stderr",
     "output_type": "stream",
     "text": [
      "/usr/local/lib/python3.7/site-packages/sklearn/linear_model/_logistic.py:940: ConvergenceWarning: lbfgs failed to converge (status=1):\n",
      "STOP: TOTAL NO. of ITERATIONS REACHED LIMIT.\n",
      "\n",
      "Increase the number of iterations (max_iter) or scale the data as shown in:\n",
      "    https://scikit-learn.org/stable/modules/preprocessing.html\n",
      "Please also refer to the documentation for alternative solver options:\n",
      "    https://scikit-learn.org/stable/modules/linear_model.html#logistic-regression\n",
      "  extra_warning_msg=_LOGISTIC_SOLVER_CONVERGENCE_MSG)\n"
     ]
    },
    {
     "name": "stdout",
     "output_type": "stream",
     "text": [
      " -> Weighted F1 score: 0.7951697334731598\n",
      "Testing: Multinomial Naive Bayes\n",
      " -> Weighted F1 score: 0.7483833056290212\n",
      "Testing: Gradient Boosting\n",
      " -> Weighted F1 score: 0.7374350643018278\n",
      "Testing: AdaBoost\n",
      " -> Weighted F1 score: 0.09482472011859888\n",
      "Testing: XGBoost\n"
     ]
    },
    {
     "ename": "KeyboardInterrupt",
     "evalue": "",
     "output_type": "error",
     "traceback": [
      "\u001b[0;31m---------------------------------------------------------------------------\u001b[0m",
      "\u001b[0;31mKeyboardInterrupt\u001b[0m                         Traceback (most recent call last)",
      "\u001b[0;32m<ipython-input-9-bd7d76d5e37c>\u001b[0m in \u001b[0;36m<module>\u001b[0;34m\u001b[0m\n\u001b[1;32m     21\u001b[0m \u001b[0;32mfor\u001b[0m \u001b[0mmodel\u001b[0m\u001b[0;34m,\u001b[0m \u001b[0mmodel_name\u001b[0m \u001b[0;32min\u001b[0m \u001b[0mzip\u001b[0m\u001b[0;34m(\u001b[0m\u001b[0mmodel_list\u001b[0m\u001b[0;34m,\u001b[0m \u001b[0mmodel_names\u001b[0m\u001b[0;34m)\u001b[0m\u001b[0;34m:\u001b[0m\u001b[0;34m\u001b[0m\u001b[0;34m\u001b[0m\u001b[0m\n\u001b[1;32m     22\u001b[0m     \u001b[0mprint\u001b[0m\u001b[0;34m(\u001b[0m\u001b[0;34m\"Testing:\"\u001b[0m\u001b[0;34m,\u001b[0m \u001b[0mmodel_name\u001b[0m\u001b[0;34m)\u001b[0m\u001b[0;34m\u001b[0m\u001b[0;34m\u001b[0m\u001b[0m\n\u001b[0;32m---> 23\u001b[0;31m     \u001b[0mmodel\u001b[0m\u001b[0;34m.\u001b[0m\u001b[0mfit\u001b[0m\u001b[0;34m(\u001b[0m\u001b[0mtrain_x\u001b[0m\u001b[0;34m,\u001b[0m \u001b[0mtrain_y\u001b[0m\u001b[0;34m)\u001b[0m\u001b[0;34m\u001b[0m\u001b[0;34m\u001b[0m\u001b[0m\n\u001b[0m\u001b[1;32m     24\u001b[0m     \u001b[0my_pred\u001b[0m \u001b[0;34m=\u001b[0m \u001b[0mmodel\u001b[0m\u001b[0;34m.\u001b[0m\u001b[0mpredict\u001b[0m\u001b[0;34m(\u001b[0m\u001b[0mvalid_x\u001b[0m\u001b[0;34m)\u001b[0m\u001b[0;34m\u001b[0m\u001b[0;34m\u001b[0m\u001b[0m\n\u001b[1;32m     25\u001b[0m     \u001b[0mweighted_f1\u001b[0m \u001b[0;34m=\u001b[0m \u001b[0mmetrics\u001b[0m\u001b[0;34m.\u001b[0m\u001b[0mf1_score\u001b[0m\u001b[0;34m(\u001b[0m\u001b[0mvalid_y\u001b[0m\u001b[0;34m,\u001b[0m \u001b[0my_pred\u001b[0m\u001b[0;34m,\u001b[0m \u001b[0maverage\u001b[0m\u001b[0;34m=\u001b[0m\u001b[0;34m'weighted'\u001b[0m\u001b[0;34m)\u001b[0m\u001b[0;34m\u001b[0m\u001b[0;34m\u001b[0m\u001b[0m\n",
      "\u001b[0;32m/usr/local/lib/python3.7/site-packages/xgboost/sklearn.py\u001b[0m in \u001b[0;36mfit\u001b[0;34m(self, X, y, sample_weight, eval_set, eval_metric, early_stopping_rounds, verbose, xgb_model)\u001b[0m\n\u001b[1;32m    504\u001b[0m                               \u001b[0mearly_stopping_rounds\u001b[0m\u001b[0;34m=\u001b[0m\u001b[0mearly_stopping_rounds\u001b[0m\u001b[0;34m,\u001b[0m\u001b[0;34m\u001b[0m\u001b[0;34m\u001b[0m\u001b[0m\n\u001b[1;32m    505\u001b[0m                               \u001b[0mevals_result\u001b[0m\u001b[0;34m=\u001b[0m\u001b[0mevals_result\u001b[0m\u001b[0;34m,\u001b[0m \u001b[0mobj\u001b[0m\u001b[0;34m=\u001b[0m\u001b[0mobj\u001b[0m\u001b[0;34m,\u001b[0m \u001b[0mfeval\u001b[0m\u001b[0;34m=\u001b[0m\u001b[0mfeval\u001b[0m\u001b[0;34m,\u001b[0m\u001b[0;34m\u001b[0m\u001b[0;34m\u001b[0m\u001b[0m\n\u001b[0;32m--> 506\u001b[0;31m                               verbose_eval=verbose, xgb_model=None)\n\u001b[0m\u001b[1;32m    507\u001b[0m \u001b[0;34m\u001b[0m\u001b[0m\n\u001b[1;32m    508\u001b[0m         \u001b[0mself\u001b[0m\u001b[0;34m.\u001b[0m\u001b[0mobjective\u001b[0m \u001b[0;34m=\u001b[0m \u001b[0mxgb_options\u001b[0m\u001b[0;34m[\u001b[0m\u001b[0;34m\"objective\"\u001b[0m\u001b[0;34m]\u001b[0m\u001b[0;34m\u001b[0m\u001b[0;34m\u001b[0m\u001b[0m\n",
      "\u001b[0;32m/usr/local/lib/python3.7/site-packages/xgboost/training.py\u001b[0m in \u001b[0;36mtrain\u001b[0;34m(params, dtrain, num_boost_round, evals, obj, feval, maximize, early_stopping_rounds, evals_result, verbose_eval, xgb_model, callbacks, learning_rates)\u001b[0m\n\u001b[1;32m    202\u001b[0m                            \u001b[0mevals\u001b[0m\u001b[0;34m=\u001b[0m\u001b[0mevals\u001b[0m\u001b[0;34m,\u001b[0m\u001b[0;34m\u001b[0m\u001b[0;34m\u001b[0m\u001b[0m\n\u001b[1;32m    203\u001b[0m                            \u001b[0mobj\u001b[0m\u001b[0;34m=\u001b[0m\u001b[0mobj\u001b[0m\u001b[0;34m,\u001b[0m \u001b[0mfeval\u001b[0m\u001b[0;34m=\u001b[0m\u001b[0mfeval\u001b[0m\u001b[0;34m,\u001b[0m\u001b[0;34m\u001b[0m\u001b[0;34m\u001b[0m\u001b[0m\n\u001b[0;32m--> 204\u001b[0;31m                            xgb_model=xgb_model, callbacks=callbacks)\n\u001b[0m\u001b[1;32m    205\u001b[0m \u001b[0;34m\u001b[0m\u001b[0m\n\u001b[1;32m    206\u001b[0m \u001b[0;34m\u001b[0m\u001b[0m\n",
      "\u001b[0;32m/usr/local/lib/python3.7/site-packages/xgboost/training.py\u001b[0m in \u001b[0;36m_train_internal\u001b[0;34m(params, dtrain, num_boost_round, evals, obj, feval, xgb_model, callbacks)\u001b[0m\n\u001b[1;32m     72\u001b[0m         \u001b[0;31m# Skip the first update if it is a recovery step.\u001b[0m\u001b[0;34m\u001b[0m\u001b[0;34m\u001b[0m\u001b[0;34m\u001b[0m\u001b[0m\n\u001b[1;32m     73\u001b[0m         \u001b[0;32mif\u001b[0m \u001b[0mversion\u001b[0m \u001b[0;34m%\u001b[0m \u001b[0;36m2\u001b[0m \u001b[0;34m==\u001b[0m \u001b[0;36m0\u001b[0m\u001b[0;34m:\u001b[0m\u001b[0;34m\u001b[0m\u001b[0;34m\u001b[0m\u001b[0m\n\u001b[0;32m---> 74\u001b[0;31m             \u001b[0mbst\u001b[0m\u001b[0;34m.\u001b[0m\u001b[0mupdate\u001b[0m\u001b[0;34m(\u001b[0m\u001b[0mdtrain\u001b[0m\u001b[0;34m,\u001b[0m \u001b[0mi\u001b[0m\u001b[0;34m,\u001b[0m \u001b[0mobj\u001b[0m\u001b[0;34m)\u001b[0m\u001b[0;34m\u001b[0m\u001b[0;34m\u001b[0m\u001b[0m\n\u001b[0m\u001b[1;32m     75\u001b[0m             \u001b[0mbst\u001b[0m\u001b[0;34m.\u001b[0m\u001b[0msave_rabit_checkpoint\u001b[0m\u001b[0;34m(\u001b[0m\u001b[0;34m)\u001b[0m\u001b[0;34m\u001b[0m\u001b[0;34m\u001b[0m\u001b[0m\n\u001b[1;32m     76\u001b[0m             \u001b[0mversion\u001b[0m \u001b[0;34m+=\u001b[0m \u001b[0;36m1\u001b[0m\u001b[0;34m\u001b[0m\u001b[0;34m\u001b[0m\u001b[0m\n",
      "\u001b[0;32m/usr/local/lib/python3.7/site-packages/xgboost/core.py\u001b[0m in \u001b[0;36mupdate\u001b[0;34m(self, dtrain, iteration, fobj)\u001b[0m\n\u001b[1;32m    896\u001b[0m         \u001b[0;32mif\u001b[0m \u001b[0mfobj\u001b[0m \u001b[0;32mis\u001b[0m \u001b[0;32mNone\u001b[0m\u001b[0;34m:\u001b[0m\u001b[0;34m\u001b[0m\u001b[0;34m\u001b[0m\u001b[0m\n\u001b[1;32m    897\u001b[0m             _check_call(_LIB.XGBoosterUpdateOneIter(self.handle, ctypes.c_int(iteration),\n\u001b[0;32m--> 898\u001b[0;31m                                                     dtrain.handle))\n\u001b[0m\u001b[1;32m    899\u001b[0m         \u001b[0;32melse\u001b[0m\u001b[0;34m:\u001b[0m\u001b[0;34m\u001b[0m\u001b[0;34m\u001b[0m\u001b[0m\n\u001b[1;32m    900\u001b[0m             \u001b[0mpred\u001b[0m \u001b[0;34m=\u001b[0m \u001b[0mself\u001b[0m\u001b[0;34m.\u001b[0m\u001b[0mpredict\u001b[0m\u001b[0;34m(\u001b[0m\u001b[0mdtrain\u001b[0m\u001b[0;34m)\u001b[0m\u001b[0;34m\u001b[0m\u001b[0;34m\u001b[0m\u001b[0m\n",
      "\u001b[0;31mKeyboardInterrupt\u001b[0m: "
     ]
    }
   ],
   "source": [
    "import xgboost\n",
    "\n",
    "model_list = [ensemble.RandomForestClassifier(min_samples_split=3,\n",
    "                                              n_estimators=200,\n",
    "                                              max_depth=None,\n",
    "                                              max_features=5),\n",
    "              linear_model.LogisticRegression(C=2, penalty=\"l2\"),\n",
    "              naive_bayes.MultinomialNB(alpha=0.1),\n",
    "              ensemble.GradientBoostingClassifier(\n",
    "                  n_estimators=150, learning_rate=0.2, max_depth=3),\n",
    "              ensemble.AdaBoostClassifier(n_estimators=200), # You should put 2000 for .43 in F1\n",
    "              xgboost.XGBClassifier()]\n",
    "\n",
    "model_names = [\"Random Forest\",\n",
    "               \"Logistic Regression\",\n",
    "               \"Multinomial Naive Bayes\",\n",
    "               \"Gradient Boosting\",\n",
    "               \"AdaBoost\",\n",
    "               \"XGBoost\"]\n",
    "\n",
    "for model, model_name in zip(model_list, model_names):\n",
    "    print(\"Testing:\", model_name)\n",
    "    model.fit(train_x, train_y)\n",
    "    y_pred = model.predict(valid_x)\n",
    "    weighted_f1 = metrics.f1_score(valid_y, y_pred, average='weighted')\n",
    "    print(\" -> Weighted F1 score:\", weighted_f1)"
   ]
  }
 ],
 "metadata": {
  "kernelspec": {
   "display_name": "Python 3",
   "language": "python",
   "name": "python3"
  },
  "language_info": {
   "codemirror_mode": {
    "name": "ipython",
    "version": 3
   },
   "file_extension": ".py",
   "mimetype": "text/x-python",
   "name": "python",
   "nbconvert_exporter": "python",
   "pygments_lexer": "ipython3",
   "version": "3.7.6"
  }
 },
 "nbformat": 4,
 "nbformat_minor": 4
}
