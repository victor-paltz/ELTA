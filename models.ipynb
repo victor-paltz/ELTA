{
 "cells": [
  {
   "cell_type": "code",
   "execution_count": 1,
   "metadata": {
    "ExecuteTime": {
     "end_time": "2020-03-18T18:17:22.332211Z",
     "start_time": "2020-03-18T18:17:08.991726Z"
    }
   },
   "outputs": [
    {
     "name": "stderr",
     "output_type": "stream",
     "text": [
      "[nltk_data] Downloading package wordnet to /Users/victor/nltk_data...\n",
      "[nltk_data]   Package wordnet is already up-to-date!\n",
      "[nltk_data] Downloading package stopwords to\n",
      "[nltk_data]     /Users/victor/nltk_data...\n",
      "[nltk_data]   Package stopwords is already up-to-date!\n"
     ]
    }
   ],
   "source": [
    "import os\n",
    "\n",
    "import pandas as pd\n",
    "\n",
    "from preprocessing import preprocess\n",
    "\n",
    "\n",
    "DATASET_FOLDER = \"data\"\n",
    "CACHE_FOLDER = \"cache\"\n",
    "\n",
    "os.makedirs(DATASET_FOLDER, exist_ok=True)\n",
    "os.makedirs(CACHE_FOLDER, exist_ok=True)"
   ]
  },
  {
   "cell_type": "markdown",
   "metadata": {},
   "source": [
    "# STEP 1: Cleaning the dataset"
   ]
  },
  {
   "cell_type": "code",
   "execution_count": 2,
   "metadata": {
    "ExecuteTime": {
     "end_time": "2020-03-18T18:17:22.471380Z",
     "start_time": "2020-03-18T18:17:22.336960Z"
    }
   },
   "outputs": [
    {
     "name": "stdout",
     "output_type": "stream",
     "text": [
      "STEP 1: Cleaning the dataset...\n",
      "\t-> Loading cached dataset\n",
      "\t-> Done\n"
     ]
    }
   ],
   "source": [
    "print(\"STEP 1: Cleaning the dataset...\")\n",
    "\n",
    "# take the preprocessed dateset in the cache folder\n",
    "try:\n",
    "    print(\"\\t-> Loading cached dataset\")\n",
    "    X_train = pd.read_csv(\n",
    "        f\"{CACHE_FOLDER}/X_train_preprocessed.csv\", index_col=\"Unnamed: 0\")\n",
    "    Y_train = pd.read_csv(\n",
    "        f\"{CACHE_FOLDER}/Y_train_preprocessed.csv\", index_col=\"Unnamed: 0\")\n",
    "\n",
    "# If the dataset is not found\n",
    "except:\n",
    "    print(\"\\t-> File not found, generating preprocessed datasets\")\n",
    "    # Load normal datasets\n",
    "    X_train = pd.read_csv(\n",
    "        f\"{DATASET_FOLDER}/X_train_update.csv\", index_col=\"Unnamed: 0\")\n",
    "    Y_train = pd.read_csv(\n",
    "        f\"{DATASET_FOLDER}/Y_train_CVw08PX.csv\", index_col=\"Unnamed: 0\")\n",
    "\n",
    "    # preprocess datasets\n",
    "    X_train, Y_train = preprocess(X_train, Y_train)\n",
    "\n",
    "    # save preprocessed datasets\n",
    "    X_train.to_csv(f\"{CACHE_FOLDER}/X_train_preprocessed.csv\")\n",
    "    Y_train.to_csv(f\"{CACHE_FOLDER}/Y_train_preprocessed.csv\")\n",
    "\n",
    "print(\"\\t-> Done\")"
   ]
  },
  {
   "cell_type": "markdown",
   "metadata": {},
   "source": [
    "# STEP 2: Sentences embedding"
   ]
  },
  {
   "cell_type": "code",
   "execution_count": 3,
   "metadata": {
    "ExecuteTime": {
     "end_time": "2020-03-18T18:17:24.475494Z",
     "start_time": "2020-03-18T18:17:22.473572Z"
    }
   },
   "outputs": [],
   "source": [
    "from sklearn import model_selection, preprocessing, linear_model, naive_bayes, metrics\n",
    "from sklearn import ensemble\n",
    "from sklearn.feature_extraction.text import TfidfVectorizer\n",
    "from sklearn.feature_extraction.text import CountVectorizer\n",
    "\n",
    "bow = CountVectorizer()\n",
    "tfidf = TfidfVectorizer()\n",
    "\n",
    "X_bow = bow.fit_transform(X_train['designation'])\n",
    "X_tfidf = tfidf.fit_transform(X_train['designation'])\n",
    "\n",
    "\n",
    "train_x, valid_x, train_y, valid_y = model_selection.train_test_split(\n",
    "    X_tfidf, Y_train['prdtypecode'])\n",
    "\n",
    "encoder = preprocessing.LabelEncoder()\n",
    "train_y = encoder.fit_transform(train_y)\n",
    "valid_y = encoder.fit_transform(valid_y)"
   ]
  },
  {
   "cell_type": "markdown",
   "metadata": {
    "ExecuteTime": {
     "end_time": "2020-03-18T17:54:47.513939Z",
     "start_time": "2020-03-18T17:54:47.505686Z"
    }
   },
   "source": [
    "# STEP 3: Testing models"
   ]
  },
  {
   "cell_type": "code",
   "execution_count": 4,
   "metadata": {
    "ExecuteTime": {
     "end_time": "2020-03-18T18:27:34.659996Z",
     "start_time": "2020-03-18T18:17:24.479048Z"
    }
   },
   "outputs": [
    {
     "name": "stdout",
     "output_type": "stream",
     "text": [
      "Testing: Random Forest\n",
      " -> Weighted F1 score: 0.7703011418124492\n",
      "Testing: Logistic Regression\n"
     ]
    },
    {
     "name": "stderr",
     "output_type": "stream",
     "text": [
      "/usr/local/lib/python3.7/site-packages/sklearn/linear_model/_logistic.py:940: ConvergenceWarning: lbfgs failed to converge (status=1):\n",
      "STOP: TOTAL NO. of ITERATIONS REACHED LIMIT.\n",
      "\n",
      "Increase the number of iterations (max_iter) or scale the data as shown in:\n",
      "    https://scikit-learn.org/stable/modules/preprocessing.html\n",
      "Please also refer to the documentation for alternative solver options:\n",
      "    https://scikit-learn.org/stable/modules/linear_model.html#logistic-regression\n",
      "  extra_warning_msg=_LOGISTIC_SOLVER_CONVERGENCE_MSG)\n"
     ]
    },
    {
     "name": "stdout",
     "output_type": "stream",
     "text": [
      " -> Weighted F1 score: 0.7860657159220855\n",
      "Testing: Multinomial Naive Bayes\n",
      " -> Weighted F1 score: 0.7201507293631655\n",
      "Testing: Gradient Boosting\n",
      " -> Weighted F1 score: 0.49148628613589374\n",
      "Testing: AdaBoost\n",
      " -> Weighted F1 score: 0.13865339519873154\n",
      "Testing: XGBoost\n",
      " -> Weighted F1 score: 0.7048817250289822\n"
     ]
    }
   ],
   "source": [
    "import xgboost\n",
    "\n",
    "model_list = [ensemble.RandomForestClassifier(),\n",
    "              linear_model.LogisticRegression(),\n",
    "              naive_bayes.MultinomialNB(),\n",
    "              ensemble.GradientBoostingClassifier(n_estimators=100, learning_rate=1.0,max_depth=1, random_state=0),\n",
    "              ensemble.AdaBoostClassifier(n_estimators=100),\n",
    "              xgboost.XGBClassifier()]\n",
    "\n",
    "model_names = [\"Random Forest\",\n",
    "              \"Logistic Regression\",\n",
    "              \"Multinomial Naive Bayes\",\n",
    "              \"Gradient Boosting\",\n",
    "              \"AdaBoost\",\n",
    "              \"XGBoost\"]\n",
    "\n",
    "for model, model_name in zip(model_list, model_names):\n",
    "    print(\"Testing:\", model_name)\n",
    "    model.fit(train_x, train_y)\n",
    "    y_pred = model.predict(valid_x)\n",
    "    weighted_f1 = metrics.f1_score(valid_y, y_pred, average='weighted')\n",
    "    print(\" -> Weighted F1 score:\", weighted_f1)\n"
   ]
  }
 ],
 "metadata": {
  "kernelspec": {
   "display_name": "Python 3",
   "language": "python",
   "name": "python3"
  },
  "language_info": {
   "codemirror_mode": {
    "name": "ipython",
    "version": 3
   },
   "file_extension": ".py",
   "mimetype": "text/x-python",
   "name": "python",
   "nbconvert_exporter": "python",
   "pygments_lexer": "ipython3",
   "version": "3.7.6"
  }
 },
 "nbformat": 4,
 "nbformat_minor": 4
}
